{
  "nbformat": 4,
  "nbformat_minor": 0,
  "metadata": {
    "colab": {
      "private_outputs": true,
      "provenance": [],
      "authorship_tag": "ABX9TyPsStec8sN1KGdununexm36"
    },
    "kernelspec": {
      "name": "python3",
      "display_name": "Python 3"
    },
    "language_info": {
      "name": "python"
    }
  },
  "cells": [
    {
      "cell_type": "code",
      "execution_count": null,
      "metadata": {
        "id": "cmjbS2dP4zw0"
      },
      "outputs": [],
      "source": [
        "! wget https://cdn.shopify.com/s/files/1/2081/8163/files/001-HIDE-AND-SEEK-Free-Childrens-Book-By-Monkey-Pen.pdf?v=1589846897 -O /content/my_novel.pdf\n"
      ]
    },
    {
      "cell_type": "code",
      "source": [
        "\n",
        "! pip install PyCryptodome\n",
        "! pip install pypdf\n",
        "\n",
        "import  pypdf\n",
        "\n",
        "from pypdf import PdfReader\n",
        "\n",
        "with open('/content/my_novel.pdf', 'rb') as f:\n",
        "  pdf_reader =  pypdf.PdfReader(f)\n",
        "  chunks = []\n",
        "  print(pdf_reader.pages)\n",
        "  for page_num in range(len(pdf_reader.pages)):\n",
        "    page = pdf_reader.pages[page_num]\n",
        "    text = page.extract_text()\n",
        "    for i in range(0, len(text), 1000):\n",
        "      chunks.append(text[i:i+1000])\n",
        "\n",
        "print('\\n\\n' + chunks[1] + '\\n\\n' + chunks[2] + '\\n')\n"
      ],
      "metadata": {
        "id": "3ablXTzR5elU"
      },
      "execution_count": null,
      "outputs": []
    },
    {
      "cell_type": "code",
      "source": [
        "import spacy\n",
        "import numpy as np\n",
        "nlp = spacy.load('en_core_web_sm')\n",
        "embedding_vectors = []\n",
        "\n",
        "for chunk in chunks:\n",
        "  doc = nlp(chunk)\n",
        "  embedding_vector = doc.vector\n",
        "  array_vec = np.array(embedding_vector)\n",
        "  embedding_vectors.append(array_vec)\n",
        "print('\\n',chunks[1] , '\\n' ,  embedding_vectors[1] , '\\n\\n-->-->-->-->-->\\n\\n' , chunks[2] , embedding_vectors[2],'\\n' )\n"
      ],
      "metadata": {
        "id": "1y9IE3f35qXn"
      },
      "execution_count": null,
      "outputs": []
    },
    {
      "cell_type": "code",
      "source": [
        "combined_database = [[None,None,None] for i in range(len(chunks))]\n",
        "\n",
        "for i in range(len(chunks)):\n",
        "  combined_database[i][0] = 0\n",
        "  combined_database[i][1] = chunks[i]\n",
        "  combined_database[i][2] = embedding_vectors[i]\n"
      ],
      "metadata": {
        "id": "RUo05fpPOtI8"
      },
      "execution_count": null,
      "outputs": []
    },
    {
      "cell_type": "code",
      "source": [
        "\n",
        "import numpy as np\n",
        "user_input = \"did sally found any treasure\"\n",
        "user_doc = nlp(user_input)\n",
        "user_vector = user_doc.vector\n",
        "\n",
        "for i in range(len(combined_database)):\n",
        "  similarity = np.dot(user_vector, combined_database[i][2]) / (np.linalg.norm(user_vector) * np.linalg.norm(combined_database[i][2]))\n",
        "  combined_database[i][0] = similarity\n",
        "\n",
        "combined_database.sort(key=lambda x: x[0], reverse=True)\n",
        "\n",
        "context = '\"'\n",
        "for i in range(2):\n",
        "  print(f\"\\nsimilarityScore: {combined_database[i][0]}\\n\\n{combined_database[i][1]}\\n\")\n",
        "  context += combined_database[i][1].replace('\"', '')\n",
        "  context += '\\n'\n",
        "  print('--------------------------------')\n",
        "context += '\"'\n"
      ],
      "metadata": {
        "id": "hUNQPZAB935v"
      },
      "execution_count": null,
      "outputs": []
    },
    {
      "cell_type": "code",
      "source": [
        "summarize = \"Summarize below passage for 5 year old in simple terms \\n \\n \\n\"\n",
        "promt_to_LLM = summarize + context\n",
        "print(promt_to_LLM)"
      ],
      "metadata": {
        "id": "L-oM1HLgQdm5"
      },
      "execution_count": null,
      "outputs": []
    }
  ]
}