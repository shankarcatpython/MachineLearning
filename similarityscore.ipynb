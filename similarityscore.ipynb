{
  "nbformat": 4,
  "nbformat_minor": 0,
  "metadata": {
    "colab": {
      "private_outputs": true,
      "provenance": [],
      "authorship_tag": "ABX9TyO6F/qiWzA3TiYuQvpJ+52D"
    },
    "kernelspec": {
      "name": "python3",
      "display_name": "Python 3"
    },
    "language_info": {
      "name": "python"
    }
  },
  "cells": [
    {
      "cell_type": "code",
      "execution_count": null,
      "metadata": {
        "id": "qa8FQeuxav-F"
      },
      "outputs": [],
      "source": [
        "import numpy as np\n",
        "\n",
        "# Assuming you have two arrays: array1 and array2 (from the database)\n",
        "array1 = np.array([1, 2, 3])\n",
        "array2 = np.array([[4,1,3], [5,2,3], [1,2,3]])  # Column of array2\n",
        "\n",
        "# Perform dot product\n",
        "dot_product = np.dot(array1, array2)\n",
        "\n",
        "print(dot_product)"
      ]
    },
    {
      "cell_type": "code",
      "source": [
        "import spacy\n",
        "\n",
        "chunks=[\"It takes courage to grow up and become who you really are.  — E.E. Cummings\"\n",
        ",\"Your self-worth is determined by you. You don t have to depend on someone telling you who you are.  — Beyonce\"\n",
        ",\"Nothing is impossible. The word itself says  I m possible!   — Audrey Hepburn\"\n",
        ",\"Keep your face always toward the sunshine, and shadows will fall behind you.  — Walt Whitman\"\n",
        ",\"You have brains in your head. You have feet in your shoes. You can steer yourself any direction you choose. You re on your own. And you know what you know.\"\n",
        ",\"And you are the guy who ll decide where to go.  — Dr. Seuss\"\n",
        ",\"Attitude is a little thing that makes a big difference.  — Winston Churchill\"]\n",
        "\n",
        "input = 'Attitude'\n",
        "\n",
        "# Load the spaCy model\n",
        "nlp = spacy.load('en_core_web_sm')\n",
        "\n",
        "# Create an empty list to store the embedding vectors\n",
        "embedding_vectors = []\n",
        "\n",
        "# Loop over each chunk of text\n",
        "for chunk in chunks:\n",
        "  # Create a spaCy document object\n",
        "  doc = nlp(chunk)\n",
        "\n",
        "  # Get the embedding vector of the document\n",
        "  embedding_vector = doc.vector\n",
        "\n",
        "  # Get the embedding vector of the input\n",
        "  embedding_input_vector = nlp(input).vector\n",
        "\n",
        "  # Calculate the cosine similarity between the two vectors\n",
        "  similarity = np.dot(embedding_input_vector, embedding_vector) / (np.linalg.norm(embedding_input_vector) * np.linalg.norm(embedding_vector))\n",
        "\n",
        "  print(chunk,similarity)\n",
        "\n",
        "  # Append the embedding vector to the list\n",
        "  embedding_vectors.append(embedding_vector)\n",
        "\n",
        "# Print the list of embedding vectors\n",
        "for vector,text in zip(embedding_vectors,chunks):\n",
        "   pass\n",
        "  #print(vector,text)\n"
      ],
      "metadata": {
        "id": "C7p5xDnLbPMD"
      },
      "execution_count": null,
      "outputs": []
    }
  ]
}