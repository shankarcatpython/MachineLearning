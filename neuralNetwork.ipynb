{
  "nbformat": 4,
  "nbformat_minor": 0,
  "metadata": {
    "colab": {
      "private_outputs": true,
      "provenance": [],
      "authorship_tag": "ABX9TyMXOa5NM4wEEYI294FiaW2d"
    },
    "kernelspec": {
      "name": "python3",
      "display_name": "Python 3"
    },
    "language_info": {
      "name": "python"
    }
  },
  "cells": [
    {
      "cell_type": "code",
      "execution_count": null,
      "metadata": {
        "id": "7evpvMCtz0v9"
      },
      "outputs": [],
      "source": [
        "# Thanks to Andred W. Trask for writing a book on deep learning\n",
        "# Complex concepts is simplefied\n",
        "# I got the book , its a great one"
      ]
    },
    {
      "cell_type": "code",
      "source": [
        "\n",
        "\n",
        "# Simple Neural Network\n",
        "import random\n",
        "\n",
        "weight = 0.1\n",
        "\n",
        "def neural_network(input,weight):\n",
        "  prediction = input * weight\n",
        "  return(prediction)\n",
        "\n",
        "input_set = [8.5,9.5,10.9]\n",
        "\n",
        "for value in input_set:\n",
        "    pred = neural_network(value,weight)\n",
        "    print(pred)\n"
      ],
      "metadata": {
        "id": "kjepLHka0xM9"
      },
      "execution_count": null,
      "outputs": []
    },
    {
      "cell_type": "code",
      "source": [
        "# prompt: create a random list of number\n",
        "import random\n",
        "random_list = [random.random() for _ in range(10)]\n",
        "print(random_list)\n"
      ],
      "metadata": {
        "id": "vzKZoCjW1N--"
      },
      "execution_count": null,
      "outputs": []
    }
  ]
}